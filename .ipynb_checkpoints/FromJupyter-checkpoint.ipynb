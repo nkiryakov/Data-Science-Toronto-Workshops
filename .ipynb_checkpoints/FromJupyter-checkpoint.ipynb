{
 "cells": [
  {
   "cell_type": "code",
   "execution_count": 1,
   "metadata": {},
   "outputs": [
    {
     "data": {
      "text/plain": [
       "2"
      ]
     },
     "execution_count": 1,
     "metadata": {},
     "output_type": "execute_result"
    }
   ],
   "source": [
    "1+1"
   ]
  },
  {
   "cell_type": "code",
   "execution_count": 2,
   "metadata": {},
   "outputs": [
    {
     "name": "stdout",
     "output_type": "stream",
     "text": [
      "foobar\n"
     ]
    }
   ],
   "source": [
    "print('foobar')"
   ]
  },
  {
   "cell_type": "code",
   "execution_count": 4,
   "metadata": {},
   "outputs": [
    {
     "name": "stdout",
     "output_type": "stream",
     "text": [
      "Writing foo.py\n"
     ]
    }
   ],
   "source": [
    "%%file foo.py\n",
    "print('foobar')"
   ]
  },
  {
   "cell_type": "markdown",
   "metadata": {},
   "source": [
    "# HEADER\n",
    "\n",
    "!"
   ]
  },
  {
   "cell_type": "code",
   "execution_count": 3,
   "metadata": {},
   "outputs": [
    {
     "data": {
      "text/plain": [
       "10"
      ]
     },
     "execution_count": 3,
     "metadata": {},
     "output_type": "execute_result"
    }
   ],
   "source": [
    "# \n",
    "5+5"
   ]
  },
  {
   "cell_type": "code",
   "execution_count": 2,
   "metadata": {},
   "outputs": [
    {
     "name": "stdout",
     "output_type": "stream",
     "text": [
      "Requirement already satisfied: pandas in /home/niko/anaconda3/lib/python3.8/site-packages (1.2.1)\n",
      "Requirement already satisfied: python-dateutil>=2.7.3 in /home/niko/anaconda3/lib/python3.8/site-packages (from pandas) (2.8.1)\n",
      "Requirement already satisfied: pytz>=2017.3 in /home/niko/anaconda3/lib/python3.8/site-packages (from pandas) (2021.1)\n",
      "Requirement already satisfied: numpy>=1.16.5 in /home/niko/anaconda3/lib/python3.8/site-packages (from pandas) (1.19.2)\n",
      "Requirement already satisfied: six>=1.5 in /home/niko/anaconda3/lib/python3.8/site-packages (from python-dateutil>=2.7.3->pandas) (1.15.0)\n"
     ]
    }
   ],
   "source": [
    "!pip install pandas"
   ]
  },
  {
   "cell_type": "code",
   "execution_count": 4,
   "metadata": {},
   "outputs": [
    {
     "name": "stdout",
     "output_type": "stream",
     "text": [
      ".  ..  foo.py  .ipynb_checkpoints  m1-1-htmlcss--html  Untitled.ipynb\n"
     ]
    }
   ],
   "source": [
    "!ls -a"
   ]
  },
  {
   "cell_type": "code",
   "execution_count": 5,
   "metadata": {},
   "outputs": [
    {
     "name": "stdout",
     "output_type": "stream",
     "text": [
      "Cloning into 'Data-Science-Toronto-Workshops'...\n",
      "remote: Enumerating objects: 26, done.\u001b[K\n",
      "remote: Counting objects: 100% (26/26), done.\u001b[K\n",
      "remote: Compressing objects: 100% (26/26), done.\u001b[K\n",
      "remote: Total 26 (delta 5), reused 0 (delta 0), pack-reused 0\u001b[K\n",
      "Unpacking objects: 100% (26/26), done.\n"
     ]
    }
   ],
   "source": [
    "!git clone https://github.com/nkiryakov/Data-Science-Toronto-Workshops.git"
   ]
  },
  {
   "cell_type": "code",
   "execution_count": 6,
   "metadata": {},
   "outputs": [
    {
     "name": "stdout",
     "output_type": "stream",
     "text": [
      "[Errno 2] No such file or directory: '/content/Data-Science-Toronto-Workshops/'\n",
      "/home/niko/Documents/Concordia Class\n"
     ]
    }
   ],
   "source": [
    "cd /content/Data-Science-Toronto-Workshops/"
   ]
  },
  {
   "cell_type": "code",
   "execution_count": 26,
   "metadata": {},
   "outputs": [
    {
     "name": "stdout",
     "output_type": "stream",
     "text": [
      "/home/niko/Documents/Concordia Class/Data-Science-Toronto-Workshops\n"
     ]
    }
   ],
   "source": [
    "cd /home/niko/Documents/Concordia Class/Data-Science-Toronto-Workshops/"
   ]
  },
  {
   "cell_type": "code",
   "execution_count": 25,
   "metadata": {},
   "outputs": [
    {
     "name": "stdout",
     "output_type": "stream",
     "text": [
      "/bin/bash: line 0: cd: /Data-Science-Toronto-Workshops: No such file or directory\n"
     ]
    }
   ],
   "source": [
    "! cd Documents/Concordia Class/Data-Science-Toronto-Workshops"
   ]
  },
  {
   "cell_type": "code",
   "execution_count": 27,
   "metadata": {
    "jupyter": {
     "source_hidden": true
    }
   },
   "outputs": [],
   "source": [
    "# %load Iris_Data.csv\n",
    "sepal_length,sepal_width,petal_length,petal_width,species\n",
    "5.1,3.5,1.4,0.2,setosa\n",
    "4.9,3.0,1.4,0.2,setosa\n",
    "4.7,3.2,1.3,0.2,setosa\n",
    "4.6,3.1,1.5,0.2,setosa\n",
    "5.0,3.6,1.4,0.2,setosa\n",
    "5.4,3.9,1.7,0.4,setosa\n",
    "4.6,3.4,1.4,0.3,setosa\n",
    "5.0,3.4,1.5,0.2,setosa\n",
    "4.4,2.9,1.4,0.2,setosa\n",
    "4.9,3.1,1.5,0.1,setosa\n",
    "5.4,3.7,1.5,0.2,setosa\n",
    "4.8,3.4,1.6,0.2,setosa\n",
    "4.8,3.0,1.4,0.1,setosa\n",
    "4.3,3.0,1.1,0.1,setosa\n",
    "5.8,4.0,1.2,0.2,setosa\n",
    "5.7,4.4,1.5,0.4,setosa\n",
    "5.4,3.9,1.3,0.4,setosa\n",
    "5.1,3.5,1.4,0.3,setosa\n",
    "5.7,3.8,1.7,0.3,setosa\n",
    "5.1,3.8,1.5,0.3,setosa\n",
    "5.4,3.4,1.7,0.2,setosa\n",
    "5.1,3.7,1.5,0.4,setosa\n",
    "4.6,3.6,1.0,0.2,setosa\n",
    "5.1,3.3,1.7,0.5,setosa\n",
    "4.8,3.4,1.9,0.2,setosa\n",
    "5.0,3.0,1.6,0.2,setosa\n",
    "5.0,3.4,1.6,0.4,setosa\n",
    "5.2,3.5,1.5,0.2,setosa\n",
    "5.2,3.4,1.4,0.2,setosa\n",
    "4.7,3.2,1.6,0.2,setosa\n",
    "4.8,3.1,1.6,0.2,setosa\n",
    "5.4,3.4,1.5,0.4,setosa\n",
    "5.2,4.1,1.5,0.1,setosa\n",
    "5.5,4.2,1.4,0.2,setosa\n",
    "4.9,3.1,1.5,0.1,setosa\n",
    "5.0,3.2,1.2,0.2,setosa\n",
    "5.5,3.5,1.3,0.2,setosa\n",
    "4.9,3.1,1.5,0.1,setosa\n",
    "4.4,3.0,1.3,0.2,setosa\n",
    "5.1,3.4,1.5,0.2,setosa\n",
    "5.0,3.5,1.3,0.3,setosa\n",
    "4.5,2.3,1.3,0.3,setosa\n",
    "4.4,3.2,1.3,0.2,setosa\n",
    "5.0,3.5,1.6,0.6,setosa\n",
    "5.1,3.8,1.9,0.4,setosa\n",
    "4.8,3.0,1.4,0.3,setosa\n",
    "5.1,3.8,1.6,0.2,setosa\n",
    "4.6,3.2,1.4,0.2,setosa\n",
    "5.3,3.7,1.5,0.2,setosa\n",
    "5.0,3.3,1.4,0.2,setosa\n",
    "7.0,3.2,4.7,1.4,versicolor\n",
    "6.4,3.2,4.5,1.5,versicolor\n",
    "6.9,3.1,4.9,1.5,versicolor\n",
    "5.5,2.3,4.0,1.3,versicolor\n",
    "6.5,2.8,4.6,1.5,versicolor\n",
    "5.7,2.8,4.5,1.3,versicolor\n",
    "6.3,3.3,4.7,1.6,versicolor\n",
    "4.9,2.4,3.3,1.0,versicolor\n",
    "6.6,2.9,4.6,1.3,versicolor\n",
    "5.2,2.7,3.9,1.4,versicolor\n",
    "5.0,2.0,3.5,1.0,versicolor\n",
    "5.9,3.0,4.2,1.5,versicolor\n",
    "6.0,2.2,4.0,1.0,versicolor\n",
    "6.1,2.9,4.7,1.4,versicolor\n",
    "5.6,2.9,3.6,1.3,versicolor\n",
    "6.7,3.1,4.4,1.4,versicolor\n",
    "5.6,3.0,4.5,1.5,versicolor\n",
    "5.8,2.7,4.1,1.0,versicolor\n",
    "6.2,2.2,4.5,1.5,versicolor\n",
    "5.6,2.5,3.9,1.1,versicolor\n",
    "5.9,3.2,4.8,1.8,versicolor\n",
    "6.1,2.8,4.0,1.3,versicolor\n",
    "6.3,2.5,4.9,1.5,versicolor\n",
    "6.1,2.8,4.7,1.2,versicolor\n",
    "6.4,2.9,4.3,1.3,versicolor\n",
    "6.6,3.0,4.4,1.4,versicolor\n",
    "6.8,2.8,4.8,1.4,versicolor\n",
    "6.7,3.0,5.0,1.7,versicolor\n",
    "6.0,2.9,4.5,1.5,versicolor\n",
    "5.7,2.6,3.5,1.0,versicolor\n",
    "5.5,2.4,3.8,1.1,versicolor\n",
    "5.5,2.4,3.7,1.0,versicolor\n",
    "5.8,2.7,3.9,1.2,versicolor\n",
    "6.0,2.7,5.1,1.6,versicolor\n",
    "5.4,3.0,4.5,1.5,versicolor\n",
    "6.0,3.4,4.5,1.6,versicolor\n",
    "6.7,3.1,4.7,1.5,versicolor\n",
    "6.3,2.3,4.4,1.3,versicolor\n",
    "5.6,3.0,4.1,1.3,versicolor\n",
    "5.5,2.5,4.0,1.3,versicolor\n",
    "5.5,2.6,4.4,1.2,versicolor\n",
    "6.1,3.0,4.6,1.4,versicolor\n",
    "5.8,2.6,4.0,1.2,versicolor\n",
    "5.0,2.3,3.3,1.0,versicolor\n",
    "5.6,2.7,4.2,1.3,versicolor\n",
    "5.7,3.0,4.2,1.2,versicolor\n",
    "5.7,2.9,4.2,1.3,versicolor\n",
    "6.2,2.9,4.3,1.3,versicolor\n",
    "5.1,2.5,3.0,1.1,versicolor\n",
    "5.7,2.8,4.1,1.3,versicolor\n",
    "6.3,3.3,6.0,2.5,virginica\n",
    "5.8,2.7,5.1,1.9,virginica\n",
    "7.1,3.0,5.9,2.1,virginica\n",
    "6.3,2.9,5.6,1.8,virginica\n",
    "6.5,3.0,5.8,2.2,virginica\n",
    "7.6,3.0,6.6,2.1,virginica\n",
    "4.9,2.5,4.5,1.7,virginica\n",
    "7.3,2.9,6.3,1.8,virginica\n",
    "6.7,2.5,5.8,1.8,virginica\n",
    "7.2,3.6,6.1,2.5,virginica\n",
    "6.5,3.2,5.1,2.0,virginica\n",
    "6.4,2.7,5.3,1.9,virginica\n",
    "6.8,3.0,5.5,2.1,virginica\n",
    "5.7,2.5,5.0,2.0,virginica\n",
    "5.8,2.8,5.1,2.4,virginica\n",
    "6.4,3.2,5.3,2.3,virginica\n",
    "6.5,3.0,5.5,1.8,virginica\n",
    "7.7,3.8,6.7,2.2,virginica\n",
    "7.7,2.6,6.9,2.3,virginica\n",
    "6.0,2.2,5.0,1.5,virginica\n",
    "6.9,3.2,5.7,2.3,virginica\n",
    "5.6,2.8,4.9,2.0,virginica\n",
    "7.7,2.8,6.7,2.0,virginica\n",
    "6.3,2.7,4.9,1.8,virginica\n",
    "6.7,3.3,5.7,2.1,virginica\n",
    "7.2,3.2,6.0,1.8,virginica\n",
    "6.2,2.8,4.8,1.8,virginica\n",
    "6.1,3.0,4.9,1.8,virginica\n",
    "6.4,2.8,5.6,2.1,virginica\n",
    "7.2,3.0,5.8,1.6,virginica\n",
    "7.4,2.8,6.1,1.9,virginica\n",
    "7.9,3.8,6.4,2.0,virginica\n",
    "6.4,2.8,5.6,2.2,virginica\n",
    "6.3,2.8,5.1,1.5,virginica\n",
    "6.1,2.6,5.6,1.4,virginica\n",
    "7.7,3.0,6.1,2.3,virginica\n",
    "6.3,3.4,5.6,2.4,virginica\n",
    "6.4,3.1,5.5,1.8,virginica\n",
    "6.0,3.0,4.8,1.8,virginica\n",
    "6.9,3.1,5.4,2.1,virginica\n",
    "6.7,3.1,5.6,2.4,virginica\n",
    "6.9,3.1,5.1,2.3,virginica\n",
    "5.8,2.7,5.1,1.9,virginica\n",
    "6.8,3.2,5.9,2.3,virginica\n",
    "6.7,3.3,5.7,2.5,virginica\n",
    "6.7,3.0,5.2,2.3,virginica\n",
    "6.3,2.5,5.0,1.9,virginica\n",
    "6.5,3.0,5.2,2.0,virginica\n",
    "6.2,3.4,5.4,2.3,virginica\n",
    "5.9,3.0,5.1,1.8,virginica\n"
   ]
  },
  {
   "cell_type": "code",
   "execution_count": 10,
   "metadata": {},
   "outputs": [
    {
     "name": "stdout",
     "output_type": "stream",
     "text": [
      "/bin/bash: line 0: cd: /Data-Science-Toronto-Workshops/: No such file or directory\n"
     ]
    }
   ],
   "source": [
    "! cd /Data-Science-Toronto-Workshops/"
   ]
  },
  {
   "cell_type": "code",
   "execution_count": 11,
   "metadata": {},
   "outputs": [],
   "source": [
    "! cd Data-Science-Toronto-Workshops/"
   ]
  },
  {
   "cell_type": "code",
   "execution_count": 18,
   "metadata": {
    "jupyter": {
     "source_hidden": true
    }
   },
   "outputs": [],
   "source": [
    "# %load Data-Science-Toronto-Workshops/Iris_Data.csv\n",
    "sepal_length,sepal_width,petal_length,petal_width,species\n",
    "5.1,3.5,1.4,0.2,setosa\n",
    "4.9,3.0,1.4,0.2,setosa\n",
    "4.7,3.2,1.3,0.2,setosa\n",
    "4.6,3.1,1.5,0.2,setosa\n",
    "5.0,3.6,1.4,0.2,setosa\n",
    "5.4,3.9,1.7,0.4,setosa\n",
    "4.6,3.4,1.4,0.3,setosa\n",
    "5.0,3.4,1.5,0.2,setosa\n",
    "4.4,2.9,1.4,0.2,setosa\n",
    "4.9,3.1,1.5,0.1,setosa\n",
    "5.4,3.7,1.5,0.2,setosa\n",
    "4.8,3.4,1.6,0.2,setosa\n",
    "4.8,3.0,1.4,0.1,setosa\n",
    "4.3,3.0,1.1,0.1,setosa\n",
    "5.8,4.0,1.2,0.2,setosa\n",
    "5.7,4.4,1.5,0.4,setosa\n",
    "5.4,3.9,1.3,0.4,setosa\n",
    "5.1,3.5,1.4,0.3,setosa\n",
    "5.7,3.8,1.7,0.3,setosa\n",
    "5.1,3.8,1.5,0.3,setosa\n",
    "5.4,3.4,1.7,0.2,setosa\n",
    "5.1,3.7,1.5,0.4,setosa\n",
    "4.6,3.6,1.0,0.2,setosa\n",
    "5.1,3.3,1.7,0.5,setosa\n",
    "4.8,3.4,1.9,0.2,setosa\n",
    "5.0,3.0,1.6,0.2,setosa\n",
    "5.0,3.4,1.6,0.4,setosa\n",
    "5.2,3.5,1.5,0.2,setosa\n",
    "5.2,3.4,1.4,0.2,setosa\n",
    "4.7,3.2,1.6,0.2,setosa\n",
    "4.8,3.1,1.6,0.2,setosa\n",
    "5.4,3.4,1.5,0.4,setosa\n",
    "5.2,4.1,1.5,0.1,setosa\n",
    "5.5,4.2,1.4,0.2,setosa\n",
    "4.9,3.1,1.5,0.1,setosa\n",
    "5.0,3.2,1.2,0.2,setosa\n",
    "5.5,3.5,1.3,0.2,setosa\n",
    "4.9,3.1,1.5,0.1,setosa\n",
    "4.4,3.0,1.3,0.2,setosa\n",
    "5.1,3.4,1.5,0.2,setosa\n",
    "5.0,3.5,1.3,0.3,setosa\n",
    "4.5,2.3,1.3,0.3,setosa\n",
    "4.4,3.2,1.3,0.2,setosa\n",
    "5.0,3.5,1.6,0.6,setosa\n",
    "5.1,3.8,1.9,0.4,setosa\n",
    "4.8,3.0,1.4,0.3,setosa\n",
    "5.1,3.8,1.6,0.2,setosa\n",
    "4.6,3.2,1.4,0.2,setosa\n",
    "5.3,3.7,1.5,0.2,setosa\n",
    "5.0,3.3,1.4,0.2,setosa\n",
    "7.0,3.2,4.7,1.4,versicolor\n",
    "6.4,3.2,4.5,1.5,versicolor\n",
    "6.9,3.1,4.9,1.5,versicolor\n",
    "5.5,2.3,4.0,1.3,versicolor\n",
    "6.5,2.8,4.6,1.5,versicolor\n",
    "5.7,2.8,4.5,1.3,versicolor\n",
    "6.3,3.3,4.7,1.6,versicolor\n",
    "4.9,2.4,3.3,1.0,versicolor\n",
    "6.6,2.9,4.6,1.3,versicolor\n",
    "5.2,2.7,3.9,1.4,versicolor\n",
    "5.0,2.0,3.5,1.0,versicolor\n",
    "5.9,3.0,4.2,1.5,versicolor\n",
    "6.0,2.2,4.0,1.0,versicolor\n",
    "6.1,2.9,4.7,1.4,versicolor\n",
    "5.6,2.9,3.6,1.3,versicolor\n",
    "6.7,3.1,4.4,1.4,versicolor\n",
    "5.6,3.0,4.5,1.5,versicolor\n",
    "5.8,2.7,4.1,1.0,versicolor\n",
    "6.2,2.2,4.5,1.5,versicolor\n",
    "5.6,2.5,3.9,1.1,versicolor\n",
    "5.9,3.2,4.8,1.8,versicolor\n",
    "6.1,2.8,4.0,1.3,versicolor\n",
    "6.3,2.5,4.9,1.5,versicolor\n",
    "6.1,2.8,4.7,1.2,versicolor\n",
    "6.4,2.9,4.3,1.3,versicolor\n",
    "6.6,3.0,4.4,1.4,versicolor\n",
    "6.8,2.8,4.8,1.4,versicolor\n",
    "6.7,3.0,5.0,1.7,versicolor\n",
    "6.0,2.9,4.5,1.5,versicolor\n",
    "5.7,2.6,3.5,1.0,versicolor\n",
    "5.5,2.4,3.8,1.1,versicolor\n",
    "5.5,2.4,3.7,1.0,versicolor\n",
    "5.8,2.7,3.9,1.2,versicolor\n",
    "6.0,2.7,5.1,1.6,versicolor\n",
    "5.4,3.0,4.5,1.5,versicolor\n",
    "6.0,3.4,4.5,1.6,versicolor\n",
    "6.7,3.1,4.7,1.5,versicolor\n",
    "6.3,2.3,4.4,1.3,versicolor\n",
    "5.6,3.0,4.1,1.3,versicolor\n",
    "5.5,2.5,4.0,1.3,versicolor\n",
    "5.5,2.6,4.4,1.2,versicolor\n",
    "6.1,3.0,4.6,1.4,versicolor\n",
    "5.8,2.6,4.0,1.2,versicolor\n",
    "5.0,2.3,3.3,1.0,versicolor\n",
    "5.6,2.7,4.2,1.3,versicolor\n",
    "5.7,3.0,4.2,1.2,versicolor\n",
    "5.7,2.9,4.2,1.3,versicolor\n",
    "6.2,2.9,4.3,1.3,versicolor\n",
    "5.1,2.5,3.0,1.1,versicolor\n",
    "5.7,2.8,4.1,1.3,versicolor\n",
    "6.3,3.3,6.0,2.5,virginica\n",
    "5.8,2.7,5.1,1.9,virginica\n",
    "7.1,3.0,5.9,2.1,virginica\n",
    "6.3,2.9,5.6,1.8,virginica\n",
    "6.5,3.0,5.8,2.2,virginica\n",
    "7.6,3.0,6.6,2.1,virginica\n",
    "4.9,2.5,4.5,1.7,virginica\n",
    "7.3,2.9,6.3,1.8,virginica\n",
    "6.7,2.5,5.8,1.8,virginica\n",
    "7.2,3.6,6.1,2.5,virginica\n",
    "6.5,3.2,5.1,2.0,virginica\n",
    "6.4,2.7,5.3,1.9,virginica\n",
    "6.8,3.0,5.5,2.1,virginica\n",
    "5.7,2.5,5.0,2.0,virginica\n",
    "5.8,2.8,5.1,2.4,virginica\n",
    "6.4,3.2,5.3,2.3,virginica\n",
    "6.5,3.0,5.5,1.8,virginica\n",
    "7.7,3.8,6.7,2.2,virginica\n",
    "7.7,2.6,6.9,2.3,virginica\n",
    "6.0,2.2,5.0,1.5,virginica\n",
    "6.9,3.2,5.7,2.3,virginica\n",
    "5.6,2.8,4.9,2.0,virginica\n",
    "7.7,2.8,6.7,2.0,virginica\n",
    "6.3,2.7,4.9,1.8,virginica\n",
    "6.7,3.3,5.7,2.1,virginica\n",
    "7.2,3.2,6.0,1.8,virginica\n",
    "6.2,2.8,4.8,1.8,virginica\n",
    "6.1,3.0,4.9,1.8,virginica\n",
    "6.4,2.8,5.6,2.1,virginica\n",
    "7.2,3.0,5.8,1.6,virginica\n",
    "7.4,2.8,6.1,1.9,virginica\n",
    "7.9,3.8,6.4,2.0,virginica\n",
    "6.4,2.8,5.6,2.2,virginica\n",
    "6.3,2.8,5.1,1.5,virginica\n",
    "6.1,2.6,5.6,1.4,virginica\n",
    "7.7,3.0,6.1,2.3,virginica\n",
    "6.3,3.4,5.6,2.4,virginica\n",
    "6.4,3.1,5.5,1.8,virginica\n",
    "6.0,3.0,4.8,1.8,virginica\n",
    "6.9,3.1,5.4,2.1,virginica\n",
    "6.7,3.1,5.6,2.4,virginica\n",
    "6.9,3.1,5.1,2.3,virginica\n",
    "5.8,2.7,5.1,1.9,virginica\n",
    "6.8,3.2,5.9,2.3,virginica\n",
    "6.7,3.3,5.7,2.5,virginica\n",
    "6.7,3.0,5.2,2.3,virginica\n",
    "6.3,2.5,5.0,1.9,virginica\n",
    "6.5,3.0,5.2,2.0,virginica\n",
    "6.2,3.4,5.4,2.3,virginica\n",
    "5.9,3.0,5.1,1.8,virginica\n"
   ]
  },
  {
   "cell_type": "code",
   "execution_count": 15,
   "metadata": {
    "jupyter": {
     "source_hidden": true
    }
   },
   "outputs": [],
   "source": [
    "# %load Data-Science-Toronto-Workshops/Iris_Data (1).csv\n",
    "sepal_length,sepal_width,petal_length,petal_width,species\n",
    "5.1,3.5,1.4,0.2,setosa\n",
    "4.9,3.0,1.4,0.2,setosa\n",
    "4.7,3.2,1.3,0.2,setosa\n",
    "4.6,3.1,1.5,0.2,setosa\n",
    "5.0,3.6,1.4,0.2,setosa\n",
    "5.4,3.9,1.7,0.4,setosa\n",
    "4.6,3.4,1.4,0.3,setosa\n",
    "5.0,3.4,1.5,0.2,setosa\n",
    "4.4,2.9,1.4,0.2,setosa\n",
    "4.9,3.1,1.5,0.1,setosa\n",
    "5.4,3.7,1.5,0.2,setosa\n",
    "4.8,3.4,1.6,0.2,setosa\n",
    "4.8,3.0,1.4,0.1,setosa\n",
    "4.3,3.0,1.1,0.1,setosa\n",
    "5.8,4.0,1.2,0.2,setosa\n",
    "5.7,4.4,1.5,0.4,setosa\n",
    "5.4,3.9,1.3,0.4,setosa\n",
    "5.1,3.5,1.4,0.3,setosa\n",
    "5.7,3.8,1.7,0.3,setosa\n",
    "5.1,3.8,1.5,0.3,setosa\n",
    "5.4,3.4,1.7,0.2,setosa\n",
    "5.1,3.7,1.5,0.4,setosa\n",
    "4.6,3.6,1.0,0.2,setosa\n",
    "5.1,3.3,1.7,0.5,setosa\n",
    "4.8,3.4,1.9,0.2,setosa\n",
    "5.0,3.0,1.6,0.2,setosa\n",
    "5.0,3.4,1.6,0.4,setosa\n",
    "5.2,3.5,1.5,0.2,setosa\n",
    "5.2,3.4,1.4,0.2,setosa\n",
    "4.7,3.2,1.6,0.2,setosa\n",
    "4.8,3.1,1.6,0.2,setosa\n",
    "5.4,3.4,1.5,0.4,setosa\n",
    "5.2,4.1,1.5,0.1,setosa\n",
    "5.5,4.2,1.4,0.2,setosa\n",
    "4.9,3.1,1.5,0.1,setosa\n",
    "5.0,3.2,1.2,0.2,setosa\n",
    "5.5,3.5,1.3,0.2,setosa\n",
    "4.9,3.1,1.5,0.1,setosa\n",
    "4.4,3.0,1.3,0.2,setosa\n",
    "5.1,3.4,1.5,0.2,setosa\n",
    "5.0,3.5,1.3,0.3,setosa\n",
    "4.5,2.3,1.3,0.3,setosa\n",
    "4.4,3.2,1.3,0.2,setosa\n",
    "5.0,3.5,1.6,0.6,setosa\n",
    "5.1,3.8,1.9,0.4,setosa\n",
    "4.8,3.0,1.4,0.3,setosa\n",
    "5.1,3.8,1.6,0.2,setosa\n",
    "4.6,3.2,1.4,0.2,setosa\n",
    "5.3,3.7,1.5,0.2,setosa\n",
    "5.0,3.3,1.4,0.2,setosa\n",
    "7.0,3.2,4.7,1.4,versicolor\n",
    "6.4,3.2,4.5,1.5,versicolor\n",
    "6.9,3.1,4.9,1.5,versicolor\n",
    "5.5,2.3,4.0,1.3,versicolor\n",
    "6.5,2.8,4.6,1.5,versicolor\n",
    "5.7,2.8,4.5,1.3,versicolor\n",
    "6.3,3.3,4.7,1.6,versicolor\n",
    "4.9,2.4,3.3,1.0,versicolor\n",
    "6.6,2.9,4.6,1.3,versicolor\n",
    "5.2,2.7,3.9,1.4,versicolor\n",
    "5.0,2.0,3.5,1.0,versicolor\n",
    "5.9,3.0,4.2,1.5,versicolor\n",
    "6.0,2.2,4.0,1.0,versicolor\n",
    "6.1,2.9,4.7,1.4,versicolor\n",
    "5.6,2.9,3.6,1.3,versicolor\n",
    "6.7,3.1,4.4,1.4,versicolor\n",
    "5.6,3.0,4.5,1.5,versicolor\n",
    "5.8,2.7,4.1,1.0,versicolor\n",
    "6.2,2.2,4.5,1.5,versicolor\n",
    "5.6,2.5,3.9,1.1,versicolor\n",
    "5.9,3.2,4.8,1.8,versicolor\n",
    "6.1,2.8,4.0,1.3,versicolor\n",
    "6.3,2.5,4.9,1.5,versicolor\n",
    "6.1,2.8,4.7,1.2,versicolor\n",
    "6.4,2.9,4.3,1.3,versicolor\n",
    "6.6,3.0,4.4,1.4,versicolor\n",
    "6.8,2.8,4.8,1.4,versicolor\n",
    "6.7,3.0,5.0,1.7,versicolor\n",
    "6.0,2.9,4.5,1.5,versicolor\n",
    "5.7,2.6,3.5,1.0,versicolor\n",
    "5.5,2.4,3.8,1.1,versicolor\n",
    "5.5,2.4,3.7,1.0,versicolor\n",
    "5.8,2.7,3.9,1.2,versicolor\n",
    "6.0,2.7,5.1,1.6,versicolor\n",
    "5.4,3.0,4.5,1.5,versicolor\n",
    "6.0,3.4,4.5,1.6,versicolor\n",
    "6.7,3.1,4.7,1.5,versicolor\n",
    "6.3,2.3,4.4,1.3,versicolor\n",
    "5.6,3.0,4.1,1.3,versicolor\n",
    "5.5,2.5,4.0,1.3,versicolor\n",
    "5.5,2.6,4.4,1.2,versicolor\n",
    "6.1,3.0,4.6,1.4,versicolor\n",
    "5.8,2.6,4.0,1.2,versicolor\n",
    "5.0,2.3,3.3,1.0,versicolor\n",
    "5.6,2.7,4.2,1.3,versicolor\n",
    "5.7,3.0,4.2,1.2,versicolor\n",
    "5.7,2.9,4.2,1.3,versicolor\n",
    "6.2,2.9,4.3,1.3,versicolor\n",
    "5.1,2.5,3.0,1.1,versicolor\n",
    "5.7,2.8,4.1,1.3,versicolor\n",
    "6.3,3.3,6.0,2.5,virginica\n",
    "5.8,2.7,5.1,1.9,virginica\n",
    "7.1,3.0,5.9,2.1,virginica\n",
    "6.3,2.9,5.6,1.8,virginica\n",
    "6.5,3.0,5.8,2.2,virginica\n",
    "7.6,3.0,6.6,2.1,virginica\n",
    "4.9,2.5,4.5,1.7,virginica\n",
    "7.3,2.9,6.3,1.8,virginica\n",
    "6.7,2.5,5.8,1.8,virginica\n",
    "7.2,3.6,6.1,2.5,virginica\n",
    "6.5,3.2,5.1,2.0,virginica\n",
    "6.4,2.7,5.3,1.9,virginica\n",
    "6.8,3.0,5.5,2.1,virginica\n",
    "5.7,2.5,5.0,2.0,virginica\n",
    "5.8,2.8,5.1,2.4,virginica\n",
    "6.4,3.2,5.3,2.3,virginica\n",
    "6.5,3.0,5.5,1.8,virginica\n",
    "7.7,3.8,6.7,2.2,virginica\n",
    "7.7,2.6,6.9,2.3,virginica\n",
    "6.0,2.2,5.0,1.5,virginica\n",
    "6.9,3.2,5.7,2.3,virginica\n",
    "5.6,2.8,4.9,2.0,virginica\n",
    "7.7,2.8,6.7,2.0,virginica\n",
    "6.3,2.7,4.9,1.8,virginica\n",
    "6.7,3.3,5.7,2.1,virginica\n",
    "7.2,3.2,6.0,1.8,virginica\n",
    "6.2,2.8,4.8,1.8,virginica\n",
    "6.1,3.0,4.9,1.8,virginica\n",
    "6.4,2.8,5.6,2.1,virginica\n",
    "7.2,3.0,5.8,1.6,virginica\n",
    "7.4,2.8,6.1,1.9,virginica\n",
    "7.9,3.8,6.4,2.0,virginica\n",
    "6.4,2.8,5.6,2.2,virginica\n",
    "6.3,2.8,5.1,1.5,virginica\n",
    "6.1,2.6,5.6,1.4,virginica\n",
    "7.7,3.0,6.1,2.3,virginica\n",
    "6.3,3.4,5.6,2.4,virginica\n",
    "6.4,3.1,5.5,1.8,virginica\n",
    "6.0,3.0,4.8,1.8,virginica\n",
    "6.9,3.1,5.4,2.1,virginica\n",
    "6.7,3.1,5.6,2.4,virginica\n",
    "6.9,3.1,5.1,2.3,virginica\n",
    "5.8,2.7,5.1,1.9,virginica\n",
    "6.8,3.2,5.9,2.3,virginica\n",
    "6.7,3.3,5.7,2.5,virginica\n",
    "6.7,3.0,5.2,2.3,virginica\n",
    "6.3,2.5,5.0,1.9,virginica\n",
    "6.5,3.0,5.2,2.0,virginica\n",
    "6.2,3.4,5.4,2.3,virginica\n",
    "5.9,3.0,5.1,1.8,virginica\n"
   ]
  },
  {
   "cell_type": "code",
   "execution_count": 29,
   "metadata": {},
   "outputs": [
    {
     "data": {
      "text/html": [
       "<div>\n",
       "<style scoped>\n",
       "    .dataframe tbody tr th:only-of-type {\n",
       "        vertical-align: middle;\n",
       "    }\n",
       "\n",
       "    .dataframe tbody tr th {\n",
       "        vertical-align: top;\n",
       "    }\n",
       "\n",
       "    .dataframe thead th {\n",
       "        text-align: right;\n",
       "    }\n",
       "</style>\n",
       "<table border=\"1\" class=\"dataframe\">\n",
       "  <thead>\n",
       "    <tr style=\"text-align: right;\">\n",
       "      <th></th>\n",
       "      <th>sepal_length</th>\n",
       "      <th>sepal_width</th>\n",
       "      <th>petal_length</th>\n",
       "      <th>petal_width</th>\n",
       "      <th>species</th>\n",
       "    </tr>\n",
       "  </thead>\n",
       "  <tbody>\n",
       "    <tr>\n",
       "      <th>0</th>\n",
       "      <td>5.1</td>\n",
       "      <td>3.5</td>\n",
       "      <td>1.4</td>\n",
       "      <td>0.2</td>\n",
       "      <td>setosa</td>\n",
       "    </tr>\n",
       "    <tr>\n",
       "      <th>1</th>\n",
       "      <td>4.9</td>\n",
       "      <td>3.0</td>\n",
       "      <td>1.4</td>\n",
       "      <td>0.2</td>\n",
       "      <td>setosa</td>\n",
       "    </tr>\n",
       "    <tr>\n",
       "      <th>2</th>\n",
       "      <td>4.7</td>\n",
       "      <td>3.2</td>\n",
       "      <td>1.3</td>\n",
       "      <td>0.2</td>\n",
       "      <td>setosa</td>\n",
       "    </tr>\n",
       "    <tr>\n",
       "      <th>3</th>\n",
       "      <td>4.6</td>\n",
       "      <td>3.1</td>\n",
       "      <td>1.5</td>\n",
       "      <td>0.2</td>\n",
       "      <td>setosa</td>\n",
       "    </tr>\n",
       "    <tr>\n",
       "      <th>4</th>\n",
       "      <td>5.0</td>\n",
       "      <td>3.6</td>\n",
       "      <td>1.4</td>\n",
       "      <td>0.2</td>\n",
       "      <td>setosa</td>\n",
       "    </tr>\n",
       "  </tbody>\n",
       "</table>\n",
       "</div>"
      ],
      "text/plain": [
       "   sepal_length  sepal_width  petal_length  petal_width species\n",
       "0           5.1          3.5           1.4          0.2  setosa\n",
       "1           4.9          3.0           1.4          0.2  setosa\n",
       "2           4.7          3.2           1.3          0.2  setosa\n",
       "3           4.6          3.1           1.5          0.2  setosa\n",
       "4           5.0          3.6           1.4          0.2  setosa"
      ]
     },
     "execution_count": 29,
     "metadata": {},
     "output_type": "execute_result"
    }
   ],
   "source": [
    "%matplotlib inline\n",
    "import pandas as pd\n",
    "import matplotlib.pyplot as plt\n",
    "import numpy as np\n",
    "\n",
    "x = pd.read_csv('Iris_Data.csv')\n",
    "\n",
    "x.head()"
   ]
  },
  {
   "cell_type": "code",
   "execution_count": 30,
   "metadata": {},
   "outputs": [
    {
     "data": {
      "image/png": "[encoded data removed]",
      "text/plain": [
       "<Figure size 432x288 with 1 Axes>"
      ]
     },
     "metadata": {
      "needs_background": "light"
     },
     "output_type": "display_data"
    }
   ],
   "source": [
    "sepal_length = x['sepal_length']\n",
    "setosa = sepal_length[0:50].to_numpy()\n",
    "versicolour = sepal_length[50:100].to_numpy()\n",
    "virginica = sepal_length[100:150].to_numpy()\n",
    "data = [setosa, versicolour, virginica]\n",
    "plt.boxplot(data)\n",
    "plt.ylabel('Sepal Length')\n",
    "plt.xlabel('Species')\n",
    "plt.xticks([1, 2, 3], ['Setosa', 'Versicolour', 'Virginica'])\n",
    "plt.title(\"Sepal Length by Species\")\n",
    "plt.show()"
   ]
  },
  {
   "cell_type": "code",
   "execution_count": 31,
   "metadata": {},
   "outputs": [
    {
     "name": "stdout",
     "output_type": "stream",
     "text": [
      "\u001b[33mcommit 80f614606f78c128baa4f2715e34e7de0870cd91\u001b[m\u001b[33m (\u001b[m\u001b[1;36mHEAD -> \u001b[m\u001b[1;32mmain\u001b[m\u001b[33m, \u001b[m\u001b[1;31morigin/main\u001b[m\u001b[33m, \u001b[m\u001b[1;31morigin/HEAD\u001b[m\u001b[33m)\u001b[m\n",
      "Author: binsalim95 <72416088+binsalim95@users.noreply.github.com>\n",
      "Date:   Tue Jan 26 15:57:25 2021 -0500\n",
      "\n",
      "    Created using Colaboratory\n",
      "\n",
      "\u001b[33mcommit 1595a70b87008226d86ba89a02feaaacbde6692d\u001b[m\n",
      "Author: binsalim95 <72416088+binsalim95@users.noreply.github.com>\n",
      "Date:   Tue Jan 26 15:55:06 2021 -0500\n",
      "\n",
      "    Created using Colaboratory\n",
      "\n",
      "\u001b[33mcommit 491377f7e31e17a216540a2932ff005f3a5bb205\u001b[m\n",
      "Author: binsalim95 <72416088+binsalim95@users.noreply.github.com>\n",
      "Date:   Tue Jan 26 12:35:42 2021 -0500\n",
      "\n",
      "    Created using Colaboratory\n",
      "\n",
      "\u001b[33mcommit 60d612a06fe917947f453a8fa715fcd8df00282d\u001b[m\n",
      "Author: binsalim95 <72416088+binsalim95@users.noreply.github.com>\n",
      "Date:   Tue Jan 26 12:34:30 2021 -0500\n",
      "\n",
      "    Created using Colaboratory\n",
      "\n",
      "\u001b[33mcommit 5845b2d161a936714bfcc7028feec0eb7e497054\u001b[m\n",
      "Author: binsalim95 <72416088+binsalim95@users.noreply.github.com>\n",
      "Date:   Mon Oct 5 17:49:48 2020 -0400\n",
      "\n",
      "    Create README.md\n",
      "\n",
      "\u001b[33mcommit dca26066574693fa105463ea0c916bb5b566bd5c\u001b[m\n",
      "Author: binsalim95 <72416088+binsalim95@users.noreply.github.com>\n",
      "Date:   Mon Oct 5 17:46:39 2020 -0400\n",
      "\n",
      "    Add files via upload\n"
     ]
    }
   ],
   "source": [
    "!git log"
   ]
  },
  {
   "cell_type": "code",
   "execution_count": null,
   "metadata": {},
   "outputs": [],
   "source": [
    "!git push origin --all"
   ]
  },
  {
   "cell_type": "code",
   "execution_count": null,
   "metadata": {},
   "outputs": [],
   "source": [
    "#markdown test"
   ]
  },
  {
   "cell_type": "code",
   "execution_count": null,
   "metadata": {},
   "outputs": [],
   "source": [
    "!git push"
   ]
  },
  {
   "cell_type": "markdown",
   "metadata": {},
   "source": [
    "this is a markdownfield"
   ]
  },
  {
   "cell_type": "code",
   "execution_count": null,
   "metadata": {},
   "outputs": [],
   "source": []
  }
 ],
 "metadata": {
  "kernelspec": {
   "display_name": "Python 3",
   "language": "python",
   "name": "python3"
  },
  "language_info": {
   "codemirror_mode": {
    "name": "ipython",
    "version": 3
   },
   "file_extension": ".py",
   "mimetype": "text/x-python",
   "name": "python",
   "nbconvert_exporter": "python",
   "pygments_lexer": "ipython3",
   "version": "3.8.5"
  }
 },
 "nbformat": 4,
 "nbformat_minor": 4
}
